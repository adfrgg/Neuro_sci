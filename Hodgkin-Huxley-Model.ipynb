{
 "cells": [
  {
   "cell_type": "code",
   "execution_count": 42,
   "metadata": {},
   "outputs": [],
   "source": [
    "import numpy as np\n",
    "import matplotlib.pyplot as plt\n",
    "import ipywidgets as widgets\n",
    "import Neuro_Lib as NL\n",
    "# @title Figure Settings\n",
    "import logging\n",
    "logging.getLogger('matplotlib.font_manager').disabled = True\n",
    "\n",
    "import ipywidgets as widgets  # interactive display\n",
    "%config InlineBackend.figure_format = 'retina'\n",
    "# use NMA plot style\n",
    "plt.style.use(\"https://raw.githubusercontent.com/NeuromatchAcademy/course-content/main/nma.mplstyle\")\n",
    "my_layout = widgets.Layout()\n"
   ]
  },
  {
   "cell_type": "code",
   "execution_count": 44,
   "metadata": {},
   "outputs": [
    {
     "data": {
      "text/plain": [
       "<module 'Neuro_Lib' from 'c:\\\\Users\\\\Acer\\\\OneDrive\\\\Braincode camp\\\\Neuro_Lib.py'>"
      ]
     },
     "execution_count": 44,
     "metadata": {},
     "output_type": "execute_result"
    }
   ],
   "source": [
    "import importlib\n",
    "importlib.reload(NL)"
   ]
  },
  {
   "cell_type": "code",
   "execution_count": 45,
   "metadata": {},
   "outputs": [
    {
     "data": {
      "application/vnd.jupyter.widget-view+json": {
       "model_id": "7d0dad7c78c94bc280fdb71295609f2f",
       "version_major": 2,
       "version_minor": 0
      },
      "text/plain": [
       "interactive(children=(FloatSlider(value=1.0, description='C_m', layout=Layout(width='450px'), max=10.0, min=1.…"
      ]
     },
     "metadata": {},
     "output_type": "display_data"
    }
   ],
   "source": [
    "my_layout.width = '450px'\n",
    "@widgets.interact(\n",
    "    C_m=widgets.FloatSlider(1.0, min=1., max=10., step=1.,layout=my_layout),\n",
    "    g_Na=widgets.FloatSlider(120., min=0., max=150., step=5.,layout=my_layout),\n",
    "    g_K=widgets.FloatSlider(36., min=0., max=50., step=5.,layout=my_layout),\n",
    "    g_L=widgets.FloatSlider(0.3, min=0., max=1., step=0.1,layout=my_layout),\n",
    "    E_Na=widgets.FloatSlider(50., min=0., max=100., step=5.,layout=my_layout),\n",
    "    E_K=widgets.FloatSlider(-77., min=-100., max=0., step=5.,layout=my_layout),\n",
    "    E_L=widgets.FloatSlider(-54., min=-100., max=100., step=5.,layout=my_layout),\n",
    "    V=widgets.FloatSlider(-80., min=-100., max=50., step=5.,layout=my_layout)\n",
    "    \n",
    ")\n",
    "def run_Model(C_m,g_Na,g_K,g_L,E_Na,E_K,E_L,V):\n",
    "  time,V_trace,m_trace,n_trace,h_trace=NL.Hodgkin_Huxley(C_m,g_Na,g_K,g_L,E_Na,E_K,E_L,V)\n",
    "  plt.figure(figsize=(6, 4))\n",
    "  plt.plot(time, V_trace, label='Membrane potential (V)')\n",
    "  plt.xlabel('Time (ms)')\n",
    "  plt.ylabel('Membrane potential (mV)')\n",
    "  plt.title('Hodgkin-Huxley Model Simulation')\n",
    "  plt.legend()\n",
    "  plt.show()\n",
    "    # Plotting the results\n",
    "  plt.figure(figsize=(6, 8))\n",
    "\n",
    "  # Plot Membrane Potential\n",
    "  plt.subplot(4, 1, 1)\n",
    "  plt.plot(time, V_trace, label='Membrane potential (V)')\n",
    "  plt.ylabel('V (mV)')\n",
    "  plt.title('Hodgkin-Huxley Model: Membrane Potential and Gating Variables')\n",
    "  plt.legend()\n",
    "\n",
    "  # Plot m-gate\n",
    "  plt.subplot(4, 1, 2)\n",
    "  plt.plot(time, m_trace, label='m-gate (Na activation)', color='r')\n",
    "  plt.ylabel('m')\n",
    "  plt.legend()\n",
    "\n",
    "  # Plot n-gate\n",
    "  plt.subplot(4, 1, 3)\n",
    "  plt.plot(time, n_trace, label='n-gate (K activation)', color='g')\n",
    "  plt.ylabel('n')\n",
    "  plt.legend()\n",
    "\n",
    "  # Plot h-gate\n",
    "  plt.subplot(4, 1, 4)\n",
    "  plt.plot(time, h_trace, label='h-gate (Na inactivation)', color='b')\n",
    "  plt.xlabel('Time (ms)')\n",
    "  plt.ylabel('h')\n",
    "  plt.legend()\n",
    "\n",
    "  plt.tight_layout()\n",
    "  plt.show()\n",
    "\n"
   ]
  }
 ],
 "metadata": {
  "kernelspec": {
   "display_name": "Python 3",
   "language": "python",
   "name": "python3"
  },
  "language_info": {
   "codemirror_mode": {
    "name": "ipython",
    "version": 3
   },
   "file_extension": ".py",
   "mimetype": "text/x-python",
   "name": "python",
   "nbconvert_exporter": "python",
   "pygments_lexer": "ipython3",
   "version": "3.12.3"
  }
 },
 "nbformat": 4,
 "nbformat_minor": 2
}
