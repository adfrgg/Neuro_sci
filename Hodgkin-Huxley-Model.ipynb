{
 "cells": [
  {
   "cell_type": "code",
   "execution_count": 17,
   "metadata": {},
   "outputs": [],
   "source": [
    "import Neuro_Lib as NL\n"
   ]
  },
  {
   "cell_type": "code",
   "execution_count": 18,
   "metadata": {},
   "outputs": [
    {
     "ename": "TypeError",
     "evalue": "simulate_hodgkin_huxley() missing 11 required positional arguments: 'C_m', 'g_Na', 'g_K', 'g_L', 'E_Na', 'E_K', 'E_L', 'V_init', 'I_stim_amp', 'stim_start', and 'stim_duration'",
     "output_type": "error",
     "traceback": [
      "\u001b[1;31m---------------------------------------------------------------------------\u001b[0m",
      "\u001b[1;31mTypeError\u001b[0m                                 Traceback (most recent call last)",
      "Cell \u001b[1;32mIn[18], line 1\u001b[0m\n\u001b[1;32m----> 1\u001b[0m time, V_trace, m_trace, n_trace, h_trace \u001b[38;5;241m=\u001b[39m \u001b[43mNL\u001b[49m\u001b[38;5;241;43m.\u001b[39;49m\u001b[43msimulate_hodgkin_huxley\u001b[49m\u001b[43m(\u001b[49m\u001b[43m)\u001b[49m\n",
      "\u001b[1;31mTypeError\u001b[0m: simulate_hodgkin_huxley() missing 11 required positional arguments: 'C_m', 'g_Na', 'g_K', 'g_L', 'E_Na', 'E_K', 'E_L', 'V_init', 'I_stim_amp', 'stim_start', and 'stim_duration'"
     ]
    }
   ],
   "source": [
    "time, V_trace, m_trace, n_trace, h_trace = NL.simulate_hodgkin_huxley()"
   ]
  },
  {
   "cell_type": "code",
   "execution_count": null,
   "metadata": {},
   "outputs": [],
   "source": []
  }
 ],
 "metadata": {
  "kernelspec": {
   "display_name": "Python 3",
   "language": "python",
   "name": "python3"
  },
  "language_info": {
   "codemirror_mode": {
    "name": "ipython",
    "version": 3
   },
   "file_extension": ".py",
   "mimetype": "text/x-python",
   "name": "python",
   "nbconvert_exporter": "python",
   "pygments_lexer": "ipython3",
   "version": "3.12.3"
  }
 },
 "nbformat": 4,
 "nbformat_minor": 2
}
